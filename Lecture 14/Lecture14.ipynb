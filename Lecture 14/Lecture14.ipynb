{
 "cells": [
  {
   "cell_type": "markdown",
   "metadata": {},
   "source": [
    "### 모델 성능 향상시키기 "
   ]
  },
  {
   "cell_type": "code",
   "execution_count": 57,
   "metadata": {},
   "outputs": [
    {
     "data": {
      "text/html": [
       "<div>\n",
       "<style scoped>\n",
       "    .dataframe tbody tr th:only-of-type {\n",
       "        vertical-align: middle;\n",
       "    }\n",
       "\n",
       "    .dataframe tbody tr th {\n",
       "        vertical-align: top;\n",
       "    }\n",
       "\n",
       "    .dataframe thead th {\n",
       "        text-align: right;\n",
       "    }\n",
       "</style>\n",
       "<table border=\"1\" class=\"dataframe\">\n",
       "  <thead>\n",
       "    <tr style=\"text-align: right;\">\n",
       "      <th></th>\n",
       "      <th>0</th>\n",
       "      <th>1</th>\n",
       "      <th>2</th>\n",
       "      <th>3</th>\n",
       "      <th>4</th>\n",
       "      <th>5</th>\n",
       "      <th>6</th>\n",
       "      <th>7</th>\n",
       "      <th>8</th>\n",
       "      <th>9</th>\n",
       "      <th>10</th>\n",
       "      <th>11</th>\n",
       "      <th>12</th>\n",
       "    </tr>\n",
       "  </thead>\n",
       "  <tbody>\n",
       "    <tr>\n",
       "      <th>0</th>\n",
       "      <td>7.4</td>\n",
       "      <td>0.70</td>\n",
       "      <td>0.00</td>\n",
       "      <td>1.9</td>\n",
       "      <td>0.076</td>\n",
       "      <td>11.0</td>\n",
       "      <td>34.0</td>\n",
       "      <td>0.99780</td>\n",
       "      <td>3.51</td>\n",
       "      <td>0.56</td>\n",
       "      <td>9.4</td>\n",
       "      <td>5</td>\n",
       "      <td>1</td>\n",
       "    </tr>\n",
       "    <tr>\n",
       "      <th>1</th>\n",
       "      <td>7.8</td>\n",
       "      <td>0.88</td>\n",
       "      <td>0.00</td>\n",
       "      <td>2.6</td>\n",
       "      <td>0.098</td>\n",
       "      <td>25.0</td>\n",
       "      <td>67.0</td>\n",
       "      <td>0.99680</td>\n",
       "      <td>3.20</td>\n",
       "      <td>0.68</td>\n",
       "      <td>9.8</td>\n",
       "      <td>5</td>\n",
       "      <td>1</td>\n",
       "    </tr>\n",
       "    <tr>\n",
       "      <th>2</th>\n",
       "      <td>7.8</td>\n",
       "      <td>0.76</td>\n",
       "      <td>0.04</td>\n",
       "      <td>2.3</td>\n",
       "      <td>0.092</td>\n",
       "      <td>15.0</td>\n",
       "      <td>54.0</td>\n",
       "      <td>0.99700</td>\n",
       "      <td>3.26</td>\n",
       "      <td>0.65</td>\n",
       "      <td>9.8</td>\n",
       "      <td>5</td>\n",
       "      <td>1</td>\n",
       "    </tr>\n",
       "    <tr>\n",
       "      <th>3</th>\n",
       "      <td>11.2</td>\n",
       "      <td>0.28</td>\n",
       "      <td>0.56</td>\n",
       "      <td>1.9</td>\n",
       "      <td>0.075</td>\n",
       "      <td>17.0</td>\n",
       "      <td>60.0</td>\n",
       "      <td>0.99800</td>\n",
       "      <td>3.16</td>\n",
       "      <td>0.58</td>\n",
       "      <td>9.8</td>\n",
       "      <td>6</td>\n",
       "      <td>1</td>\n",
       "    </tr>\n",
       "    <tr>\n",
       "      <th>4</th>\n",
       "      <td>7.4</td>\n",
       "      <td>0.70</td>\n",
       "      <td>0.00</td>\n",
       "      <td>1.9</td>\n",
       "      <td>0.076</td>\n",
       "      <td>11.0</td>\n",
       "      <td>34.0</td>\n",
       "      <td>0.99780</td>\n",
       "      <td>3.51</td>\n",
       "      <td>0.56</td>\n",
       "      <td>9.4</td>\n",
       "      <td>5</td>\n",
       "      <td>1</td>\n",
       "    </tr>\n",
       "    <tr>\n",
       "      <th>...</th>\n",
       "      <td>...</td>\n",
       "      <td>...</td>\n",
       "      <td>...</td>\n",
       "      <td>...</td>\n",
       "      <td>...</td>\n",
       "      <td>...</td>\n",
       "      <td>...</td>\n",
       "      <td>...</td>\n",
       "      <td>...</td>\n",
       "      <td>...</td>\n",
       "      <td>...</td>\n",
       "      <td>...</td>\n",
       "      <td>...</td>\n",
       "    </tr>\n",
       "    <tr>\n",
       "      <th>6492</th>\n",
       "      <td>6.2</td>\n",
       "      <td>0.21</td>\n",
       "      <td>0.29</td>\n",
       "      <td>1.6</td>\n",
       "      <td>0.039</td>\n",
       "      <td>24.0</td>\n",
       "      <td>92.0</td>\n",
       "      <td>0.99114</td>\n",
       "      <td>3.27</td>\n",
       "      <td>0.50</td>\n",
       "      <td>11.2</td>\n",
       "      <td>6</td>\n",
       "      <td>0</td>\n",
       "    </tr>\n",
       "    <tr>\n",
       "      <th>6493</th>\n",
       "      <td>6.6</td>\n",
       "      <td>0.32</td>\n",
       "      <td>0.36</td>\n",
       "      <td>8.0</td>\n",
       "      <td>0.047</td>\n",
       "      <td>57.0</td>\n",
       "      <td>168.0</td>\n",
       "      <td>0.99490</td>\n",
       "      <td>3.15</td>\n",
       "      <td>0.46</td>\n",
       "      <td>9.6</td>\n",
       "      <td>5</td>\n",
       "      <td>0</td>\n",
       "    </tr>\n",
       "    <tr>\n",
       "      <th>6494</th>\n",
       "      <td>6.5</td>\n",
       "      <td>0.24</td>\n",
       "      <td>0.19</td>\n",
       "      <td>1.2</td>\n",
       "      <td>0.041</td>\n",
       "      <td>30.0</td>\n",
       "      <td>111.0</td>\n",
       "      <td>0.99254</td>\n",
       "      <td>2.99</td>\n",
       "      <td>0.46</td>\n",
       "      <td>9.4</td>\n",
       "      <td>6</td>\n",
       "      <td>0</td>\n",
       "    </tr>\n",
       "    <tr>\n",
       "      <th>6495</th>\n",
       "      <td>5.5</td>\n",
       "      <td>0.29</td>\n",
       "      <td>0.30</td>\n",
       "      <td>1.1</td>\n",
       "      <td>0.022</td>\n",
       "      <td>20.0</td>\n",
       "      <td>110.0</td>\n",
       "      <td>0.98869</td>\n",
       "      <td>3.34</td>\n",
       "      <td>0.38</td>\n",
       "      <td>12.8</td>\n",
       "      <td>7</td>\n",
       "      <td>0</td>\n",
       "    </tr>\n",
       "    <tr>\n",
       "      <th>6496</th>\n",
       "      <td>6.0</td>\n",
       "      <td>0.21</td>\n",
       "      <td>0.38</td>\n",
       "      <td>0.8</td>\n",
       "      <td>0.020</td>\n",
       "      <td>22.0</td>\n",
       "      <td>98.0</td>\n",
       "      <td>0.98941</td>\n",
       "      <td>3.26</td>\n",
       "      <td>0.32</td>\n",
       "      <td>11.8</td>\n",
       "      <td>6</td>\n",
       "      <td>0</td>\n",
       "    </tr>\n",
       "  </tbody>\n",
       "</table>\n",
       "<p>6497 rows × 13 columns</p>\n",
       "</div>"
      ],
      "text/plain": [
       "        0     1     2    3      4     5      6        7     8     9     10  \\\n",
       "0      7.4  0.70  0.00  1.9  0.076  11.0   34.0  0.99780  3.51  0.56   9.4   \n",
       "1      7.8  0.88  0.00  2.6  0.098  25.0   67.0  0.99680  3.20  0.68   9.8   \n",
       "2      7.8  0.76  0.04  2.3  0.092  15.0   54.0  0.99700  3.26  0.65   9.8   \n",
       "3     11.2  0.28  0.56  1.9  0.075  17.0   60.0  0.99800  3.16  0.58   9.8   \n",
       "4      7.4  0.70  0.00  1.9  0.076  11.0   34.0  0.99780  3.51  0.56   9.4   \n",
       "...    ...   ...   ...  ...    ...   ...    ...      ...   ...   ...   ...   \n",
       "6492   6.2  0.21  0.29  1.6  0.039  24.0   92.0  0.99114  3.27  0.50  11.2   \n",
       "6493   6.6  0.32  0.36  8.0  0.047  57.0  168.0  0.99490  3.15  0.46   9.6   \n",
       "6494   6.5  0.24  0.19  1.2  0.041  30.0  111.0  0.99254  2.99  0.46   9.4   \n",
       "6495   5.5  0.29  0.30  1.1  0.022  20.0  110.0  0.98869  3.34  0.38  12.8   \n",
       "6496   6.0  0.21  0.38  0.8  0.020  22.0   98.0  0.98941  3.26  0.32  11.8   \n",
       "\n",
       "      11  12  \n",
       "0      5   1  \n",
       "1      5   1  \n",
       "2      5   1  \n",
       "3      6   1  \n",
       "4      5   1  \n",
       "...   ..  ..  \n",
       "6492   6   0  \n",
       "6493   5   0  \n",
       "6494   6   0  \n",
       "6495   7   0  \n",
       "6496   6   0  \n",
       "\n",
       "[6497 rows x 13 columns]"
      ]
     },
     "execution_count": 57,
     "metadata": {},
     "output_type": "execute_result"
    }
   ],
   "source": [
    "import pandas as pd \n",
    "from tensorflow import keras\n",
    "from keras import Sequential, Input\n",
    "from keras.layers import Dense \n",
    "from sklearn.model_selection import train_test_split\n",
    "\n",
    "df = pd.read_csv(\"./wine.csv\", header=None)\n",
    "\n",
    "df"
   ]
  },
  {
   "cell_type": "markdown",
   "metadata": {},
   "source": [
    "#### 검증셋 더하기 \n",
    "- 검증셋 : model.fit() 함수에 <b>validation_split</b> 옵션 주기 "
   ]
  },
  {
   "cell_type": "code",
   "execution_count": 58,
   "metadata": {},
   "outputs": [],
   "source": [
    "x = df.iloc[:, 0:12]\n",
    "y = df.iloc[:, 12]\n",
    "\n",
    "# 학습셋, 데이터셋 나누기 \n",
    "x_train, x_test, y_train, y_test = train_test_split(x,y,test_size=0.2,shuffle=True)\n"
   ]
  },
  {
   "cell_type": "markdown",
   "metadata": {},
   "source": [
    "#### 모델 구조 "
   ]
  },
  {
   "cell_type": "code",
   "execution_count": 59,
   "metadata": {},
   "outputs": [
    {
     "name": "stdout",
     "output_type": "stream",
     "text": [
      "Model: \"sequential_7\"\n",
      "_________________________________________________________________\n",
      " Layer (type)                Output Shape              Param #   \n",
      "=================================================================\n",
      " dense_20 (Dense)            (None, 30)                390       \n",
      "                                                                 \n",
      " dense_21 (Dense)            (None, 12)                372       \n",
      "                                                                 \n",
      " dense_22 (Dense)            (None, 8)                 104       \n",
      "                                                                 \n",
      " dense_23 (Dense)            (None, 1)                 9         \n",
      "                                                                 \n",
      "=================================================================\n",
      "Total params: 875 (3.42 KB)\n",
      "Trainable params: 875 (3.42 KB)\n",
      "Non-trainable params: 0 (0.00 Byte)\n",
      "_________________________________________________________________\n"
     ]
    }
   ],
   "source": [
    "model = Sequential() \n",
    "model.add(Input(shape=(12,)))\n",
    "model.add(Dense(30, activation=\"relu\"))\n",
    "model.add(Dense(12, activation=\"relu\"))\n",
    "model.add(Dense(8, activation=\"relu\"))\n",
    "model.add(Dense(1, activation=\"sigmoid\"))\n",
    "model.summary()"
   ]
  },
  {
   "cell_type": "markdown",
   "metadata": {},
   "source": [
    "#### 모델 컴파일 "
   ]
  },
  {
   "cell_type": "code",
   "execution_count": 60,
   "metadata": {},
   "outputs": [],
   "source": [
    "model.compile(loss=\"binary_crossentropy\",\n",
    "              optimizer=\"adam\",\n",
    "              metrics=[\"accuracy\"])"
   ]
  },
  {
   "cell_type": "markdown",
   "metadata": {},
   "source": [
    "#### 모델 저장하기 "
   ]
  },
  {
   "cell_type": "code",
   "execution_count": 61,
   "metadata": {},
   "outputs": [],
   "source": [
    "from keras.callbacks import ModelCheckpoint\n",
    "\n",
    "model_path = \"./model/{epoch:02d}-{val_accuracy:4f}.hdf5\"\n",
    "\n",
    "checkpointer = ModelCheckpoint(filepath=model_path, verbose = 1)\n"
   ]
  },
  {
   "cell_type": "markdown",
   "metadata": {},
   "source": [
    "#### 모델 실행 "
   ]
  },
  {
   "cell_type": "code",
   "execution_count": 62,
   "metadata": {},
   "outputs": [],
   "source": [
    "history = model.fit(x_train, y_train, \n",
    "                    epochs=2000, \n",
    "                    batch_size=500, \n",
    "                    validation_split=0.25,\n",
    "                    verbose = 0)"
   ]
  },
  {
   "cell_type": "markdown",
   "metadata": {},
   "source": [
    "#### 테스트 결과 출력"
   ]
  },
  {
   "cell_type": "code",
   "execution_count": 63,
   "metadata": {},
   "outputs": [
    {
     "name": "stdout",
     "output_type": "stream",
     "text": [
      "41/41 [==============================] - 0s 333us/step - loss: 0.0756 - accuracy: 0.9869\n",
      "테스트 정확도 : 98.69%\n"
     ]
    }
   ],
   "source": [
    "score = model.evaluate(x_test, y_test)\n",
    "print(\"테스트 정확도 : %.2f%%\" %(score[1]*100))"
   ]
  },
  {
   "cell_type": "code",
   "execution_count": 64,
   "metadata": {},
   "outputs": [
    {
     "data": {
      "text/html": [
       "<div>\n",
       "<style scoped>\n",
       "    .dataframe tbody tr th:only-of-type {\n",
       "        vertical-align: middle;\n",
       "    }\n",
       "\n",
       "    .dataframe tbody tr th {\n",
       "        vertical-align: top;\n",
       "    }\n",
       "\n",
       "    .dataframe thead th {\n",
       "        text-align: right;\n",
       "    }\n",
       "</style>\n",
       "<table border=\"1\" class=\"dataframe\">\n",
       "  <thead>\n",
       "    <tr style=\"text-align: right;\">\n",
       "      <th></th>\n",
       "      <th>loss</th>\n",
       "      <th>accuracy</th>\n",
       "      <th>val_loss</th>\n",
       "      <th>val_accuracy</th>\n",
       "    </tr>\n",
       "  </thead>\n",
       "  <tbody>\n",
       "    <tr>\n",
       "      <th>0</th>\n",
       "      <td>0.529101</td>\n",
       "      <td>0.802155</td>\n",
       "      <td>0.341024</td>\n",
       "      <td>0.876154</td>\n",
       "    </tr>\n",
       "    <tr>\n",
       "      <th>1</th>\n",
       "      <td>0.363334</td>\n",
       "      <td>0.879138</td>\n",
       "      <td>0.349084</td>\n",
       "      <td>0.893846</td>\n",
       "    </tr>\n",
       "    <tr>\n",
       "      <th>2</th>\n",
       "      <td>0.336152</td>\n",
       "      <td>0.877342</td>\n",
       "      <td>0.320953</td>\n",
       "      <td>0.880000</td>\n",
       "    </tr>\n",
       "    <tr>\n",
       "      <th>3</th>\n",
       "      <td>0.327786</td>\n",
       "      <td>0.861945</td>\n",
       "      <td>0.315250</td>\n",
       "      <td>0.880000</td>\n",
       "    </tr>\n",
       "    <tr>\n",
       "      <th>4</th>\n",
       "      <td>0.316226</td>\n",
       "      <td>0.877598</td>\n",
       "      <td>0.303701</td>\n",
       "      <td>0.897692</td>\n",
       "    </tr>\n",
       "    <tr>\n",
       "      <th>...</th>\n",
       "      <td>...</td>\n",
       "      <td>...</td>\n",
       "      <td>...</td>\n",
       "      <td>...</td>\n",
       "    </tr>\n",
       "    <tr>\n",
       "      <th>1995</th>\n",
       "      <td>0.021993</td>\n",
       "      <td>0.995381</td>\n",
       "      <td>0.042775</td>\n",
       "      <td>0.989231</td>\n",
       "    </tr>\n",
       "    <tr>\n",
       "      <th>1996</th>\n",
       "      <td>0.027325</td>\n",
       "      <td>0.991789</td>\n",
       "      <td>0.052821</td>\n",
       "      <td>0.990000</td>\n",
       "    </tr>\n",
       "    <tr>\n",
       "      <th>1997</th>\n",
       "      <td>0.020558</td>\n",
       "      <td>0.994611</td>\n",
       "      <td>0.048335</td>\n",
       "      <td>0.987692</td>\n",
       "    </tr>\n",
       "    <tr>\n",
       "      <th>1998</th>\n",
       "      <td>0.021003</td>\n",
       "      <td>0.993841</td>\n",
       "      <td>0.045781</td>\n",
       "      <td>0.990769</td>\n",
       "    </tr>\n",
       "    <tr>\n",
       "      <th>1999</th>\n",
       "      <td>0.019229</td>\n",
       "      <td>0.994611</td>\n",
       "      <td>0.043899</td>\n",
       "      <td>0.990000</td>\n",
       "    </tr>\n",
       "  </tbody>\n",
       "</table>\n",
       "<p>2000 rows × 4 columns</p>\n",
       "</div>"
      ],
      "text/plain": [
       "          loss  accuracy  val_loss  val_accuracy\n",
       "0     0.529101  0.802155  0.341024      0.876154\n",
       "1     0.363334  0.879138  0.349084      0.893846\n",
       "2     0.336152  0.877342  0.320953      0.880000\n",
       "3     0.327786  0.861945  0.315250      0.880000\n",
       "4     0.316226  0.877598  0.303701      0.897692\n",
       "...        ...       ...       ...           ...\n",
       "1995  0.021993  0.995381  0.042775      0.989231\n",
       "1996  0.027325  0.991789  0.052821      0.990000\n",
       "1997  0.020558  0.994611  0.048335      0.987692\n",
       "1998  0.021003  0.993841  0.045781      0.990769\n",
       "1999  0.019229  0.994611  0.043899      0.990000\n",
       "\n",
       "[2000 rows x 4 columns]"
      ]
     },
     "execution_count": 64,
     "metadata": {},
     "output_type": "execute_result"
    }
   ],
   "source": [
    "hist_df = pd.DataFrame(history.history)\n",
    "hist_df"
   ]
  },
  {
   "cell_type": "code",
   "execution_count": 65,
   "metadata": {},
   "outputs": [],
   "source": [
    "# 학습셋 오차 \n",
    "y_loss = hist_df[\"loss\"]\n",
    "\n",
    "# 검증셋 오차 \n",
    "y_vloss = hist_df[\"val_loss\"]"
   ]
  },
  {
   "cell_type": "markdown",
   "metadata": {},
   "source": [
    "#### 학습셋, 검증셋 오차 비교 그래프 그리기 "
   ]
  },
  {
   "cell_type": "code",
   "execution_count": 66,
   "metadata": {},
   "outputs": [
    {
     "data": {
      "image/png": "[encoded data removed]",
      "text/plain": [
       "<Figure size 640x480 with 1 Axes>"
      ]
     },
     "metadata": {},
     "output_type": "display_data"
    }
   ],
   "source": [
    "import numpy as np \n",
    "import matplotlib.pyplot as plt\n",
    "\n",
    "x_len = np.arange(len(y_loss)-7)\n",
    "plt.figure() \n",
    "plt.plot(x_len, y_loss[7:], 'o', c=\"blue\", label=\"Training\")\n",
    "plt.plot(x_len, y_vloss[7:], 'o', c=\"red\", label=\"Training\")\n",
    "plt.legend(loc=\"upper right\")\n",
    "plt.xlabel(\"epoch\")\n",
    "plt.ylabel(\"loss\")\n",
    "plt.grid(True)\n",
    "plt.show()"
   ]
  },
  {
   "cell_type": "markdown",
   "metadata": {},
   "source": [
    "-> 학습셋 오차는 줄어들지만 검증셋 오차는 커짐"
   ]
  },
  {
   "cell_type": "markdown",
   "metadata": {},
   "source": [
    "#### 학습 자동 중단시키기 : EarlyStopping() "
   ]
  },
  {
   "cell_type": "code",
   "execution_count": 67,
   "metadata": {},
   "outputs": [],
   "source": [
    "from keras.callbacks import EarlyStopping\n",
    "\n",
    "early_stopping_callback = EarlyStopping(monitor=\"val_loss\", patience=20)\n",
    "checkpointer = ModelCheckpoint(filepath=model_path, monitor=\"val_loss\",\n",
    "                               verbose=0, save_best_only=True)"
   ]
  },
  {
   "cell_type": "code",
   "execution_count": 68,
   "metadata": {},
   "outputs": [
    {
     "name": "stdout",
     "output_type": "stream",
     "text": [
      "Epoch 1/2000\n",
      "8/8 [==============================] - 0s 5ms/step - loss: 0.0192 - accuracy: 0.9956 - val_loss: 0.0436 - val_accuracy: 0.9915\n",
      "Epoch 2/2000\n",
      "8/8 [==============================] - 0s 3ms/step - loss: 0.0193 - accuracy: 0.9949 - val_loss: 0.0433 - val_accuracy: 0.9915\n",
      "Epoch 3/2000\n",
      "8/8 [==============================] - 0s 2ms/step - loss: 0.0197 - accuracy: 0.9946 - val_loss: 0.0445 - val_accuracy: 0.9908\n",
      "Epoch 4/2000\n",
      "8/8 [==============================] - 0s 2ms/step - loss: 0.0195 - accuracy: 0.9941 - val_loss: 0.0495 - val_accuracy: 0.9877\n",
      "Epoch 5/2000\n",
      "8/8 [==============================] - 0s 3ms/step - loss: 0.0204 - accuracy: 0.9941 - val_loss: 0.0431 - val_accuracy: 0.9900\n",
      "Epoch 6/2000\n",
      "8/8 [==============================] - 0s 2ms/step - loss: 0.0185 - accuracy: 0.9956 - val_loss: 0.0482 - val_accuracy: 0.9908\n",
      "Epoch 7/2000\n",
      "8/8 [==============================] - 0s 3ms/step - loss: 0.0198 - accuracy: 0.9946 - val_loss: 0.0441 - val_accuracy: 0.9908\n",
      "Epoch 8/2000\n",
      "8/8 [==============================] - 0s 3ms/step - loss: 0.0185 - accuracy: 0.9956 - val_loss: 0.0435 - val_accuracy: 0.9908\n",
      "Epoch 9/2000\n",
      "8/8 [==============================] - 0s 2ms/step - loss: 0.0198 - accuracy: 0.9944 - val_loss: 0.0459 - val_accuracy: 0.9900\n",
      "Epoch 10/2000\n",
      "8/8 [==============================] - 0s 2ms/step - loss: 0.0237 - accuracy: 0.9933 - val_loss: 0.0725 - val_accuracy: 0.9800\n",
      "Epoch 11/2000\n",
      "8/8 [==============================] - 0s 2ms/step - loss: 0.0254 - accuracy: 0.9920 - val_loss: 0.0497 - val_accuracy: 0.9877\n",
      "Epoch 12/2000\n"
     ]
    },
    {
     "name": "stderr",
     "output_type": "stream",
     "text": [
      "/opt/homebrew/lib/python3.11/site-packages/keras/src/engine/training.py:3079: UserWarning: You are saving your model as an HDF5 file via `model.save()`. This file format is considered legacy. We recommend using instead the native Keras format, e.g. `model.save('my_model.keras')`.\n",
      "  saving_api.save_model(\n"
     ]
    },
    {
     "name": "stdout",
     "output_type": "stream",
     "text": [
      "8/8 [==============================] - 0s 3ms/step - loss: 0.0212 - accuracy: 0.9938 - val_loss: 0.0429 - val_accuracy: 0.9900\n",
      "Epoch 13/2000\n",
      "8/8 [==============================] - 0s 2ms/step - loss: 0.0185 - accuracy: 0.9951 - val_loss: 0.0444 - val_accuracy: 0.9900\n",
      "Epoch 14/2000\n",
      "8/8 [==============================] - 0s 2ms/step - loss: 0.0193 - accuracy: 0.9949 - val_loss: 0.0439 - val_accuracy: 0.9915\n",
      "Epoch 15/2000\n",
      "8/8 [==============================] - 0s 3ms/step - loss: 0.0190 - accuracy: 0.9951 - val_loss: 0.0422 - val_accuracy: 0.9908\n",
      "Epoch 16/2000\n",
      "8/8 [==============================] - 0s 4ms/step - loss: 0.0200 - accuracy: 0.9944 - val_loss: 0.0495 - val_accuracy: 0.9892\n",
      "Epoch 17/2000\n",
      "8/8 [==============================] - 0s 4ms/step - loss: 0.0199 - accuracy: 0.9941 - val_loss: 0.0413 - val_accuracy: 0.9908\n",
      "Epoch 18/2000\n",
      "8/8 [==============================] - 0s 2ms/step - loss: 0.0202 - accuracy: 0.9941 - val_loss: 0.0444 - val_accuracy: 0.9908\n",
      "Epoch 19/2000\n",
      "8/8 [==============================] - 0s 2ms/step - loss: 0.0214 - accuracy: 0.9941 - val_loss: 0.0461 - val_accuracy: 0.9892\n",
      "Epoch 20/2000\n",
      "8/8 [==============================] - 0s 2ms/step - loss: 0.0195 - accuracy: 0.9949 - val_loss: 0.0422 - val_accuracy: 0.9938\n",
      "Epoch 21/2000\n",
      "8/8 [==============================] - 0s 2ms/step - loss: 0.0215 - accuracy: 0.9938 - val_loss: 0.0607 - val_accuracy: 0.9846\n",
      "Epoch 22/2000\n",
      "8/8 [==============================] - 0s 2ms/step - loss: 0.0237 - accuracy: 0.9931 - val_loss: 0.0501 - val_accuracy: 0.9877\n",
      "Epoch 23/2000\n",
      "8/8 [==============================] - 0s 2ms/step - loss: 0.0227 - accuracy: 0.9923 - val_loss: 0.0437 - val_accuracy: 0.9900\n",
      "Epoch 24/2000\n",
      "8/8 [==============================] - 0s 2ms/step - loss: 0.0197 - accuracy: 0.9936 - val_loss: 0.0460 - val_accuracy: 0.9885\n",
      "Epoch 25/2000\n",
      "8/8 [==============================] - 0s 2ms/step - loss: 0.0241 - accuracy: 0.9933 - val_loss: 0.0453 - val_accuracy: 0.9915\n",
      "Epoch 26/2000\n",
      "8/8 [==============================] - 0s 2ms/step - loss: 0.0229 - accuracy: 0.9928 - val_loss: 0.0615 - val_accuracy: 0.9854\n",
      "Epoch 27/2000\n",
      "8/8 [==============================] - 0s 2ms/step - loss: 0.0250 - accuracy: 0.9926 - val_loss: 0.0537 - val_accuracy: 0.9877\n",
      "Epoch 28/2000\n",
      "8/8 [==============================] - 0s 2ms/step - loss: 0.0227 - accuracy: 0.9938 - val_loss: 0.0452 - val_accuracy: 0.9915\n",
      "Epoch 29/2000\n",
      "8/8 [==============================] - 0s 2ms/step - loss: 0.0215 - accuracy: 0.9936 - val_loss: 0.0439 - val_accuracy: 0.9915\n",
      "Epoch 30/2000\n",
      "8/8 [==============================] - 0s 2ms/step - loss: 0.0205 - accuracy: 0.9938 - val_loss: 0.0440 - val_accuracy: 0.9908\n",
      "Epoch 31/2000\n",
      "8/8 [==============================] - 0s 2ms/step - loss: 0.0197 - accuracy: 0.9944 - val_loss: 0.0497 - val_accuracy: 0.9892\n",
      "Epoch 32/2000\n",
      "8/8 [==============================] - 0s 2ms/step - loss: 0.0187 - accuracy: 0.9956 - val_loss: 0.0434 - val_accuracy: 0.9908\n",
      "Epoch 33/2000\n",
      "8/8 [==============================] - 0s 2ms/step - loss: 0.0180 - accuracy: 0.9951 - val_loss: 0.0438 - val_accuracy: 0.9900\n",
      "Epoch 34/2000\n",
      "8/8 [==============================] - 0s 2ms/step - loss: 0.0191 - accuracy: 0.9946 - val_loss: 0.0431 - val_accuracy: 0.9908\n",
      "Epoch 35/2000\n",
      "8/8 [==============================] - 0s 2ms/step - loss: 0.0187 - accuracy: 0.9951 - val_loss: 0.0475 - val_accuracy: 0.9892\n",
      "Epoch 36/2000\n",
      "8/8 [==============================] - 0s 2ms/step - loss: 0.0213 - accuracy: 0.9931 - val_loss: 0.0417 - val_accuracy: 0.9915\n",
      "Epoch 37/2000\n",
      "8/8 [==============================] - 0s 2ms/step - loss: 0.0188 - accuracy: 0.9944 - val_loss: 0.0441 - val_accuracy: 0.9923\n"
     ]
    }
   ],
   "source": [
    "history = model.fit(x_train, y_train,\n",
    "                    epochs=2000, batch_size=500,\n",
    "                    validation_split=0.25, verbose=1,\n",
    "                    callbacks=[early_stopping_callback, checkpointer])"
   ]
  },
  {
   "cell_type": "code",
   "execution_count": 69,
   "metadata": {},
   "outputs": [
    {
     "name": "stdout",
     "output_type": "stream",
     "text": [
      "41/41 [==============================] - 0s 350us/step - loss: 0.0781 - accuracy: 0.9869\n",
      "테스트 정확도 : 98.69%\n"
     ]
    }
   ],
   "source": [
    "score = model.evaluate(x_test, y_test)\n",
    "print(\"테스트 정확도 : %.2f%%\" %(score[1]*100))"
   ]
  }
 ],
 "metadata": {
  "kernelspec": {
   "display_name": "Python 3",
   "language": "python",
   "name": "python3"
  },
  "language_info": {
   "codemirror_mode": {
    "name": "ipython",
    "version": 3
   },
   "file_extension": ".py",
   "mimetype": "text/x-python",
   "name": "python",
   "nbconvert_exporter": "python",
   "pygments_lexer": "ipython3",
   "version": "3.11.4"
  }
 },
 "nbformat": 4,
 "nbformat_minor": 2
}
